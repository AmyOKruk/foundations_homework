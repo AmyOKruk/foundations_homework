{
 "cells": [
  {
   "cell_type": "markdown",
   "metadata": {},
   "source": [
    "# Dark Sky API (Weather)\n",
    "\n",
    "Answer the following questions using the [Dark Sky API](https://darksky.net/dev/). I've added three cells for each question but you're free to use more or less! Hold `Shift` and hit `Enter` to run a cell, and use the `+` on the top left to add a new cell to a notebook.\n",
    "\n",
    "If you spend some time reading the documentation your life will probably be a little bit easier!\n",
    "\n",
    "## 0) Import any libraries you might need\n",
    "\n",
    "- *Tip: We're going to be downloading things from the internet, so we probably need `requests`.*"
   ]
  },
  {
   "cell_type": "code",
   "execution_count": 1,
   "metadata": {
    "scrolled": true
   },
   "outputs": [],
   "source": [
    "import requests"
   ]
  },
  {
   "cell_type": "code",
   "execution_count": null,
   "metadata": {
    "scrolled": true
   },
   "outputs": [],
   "source": []
  },
  {
   "cell_type": "markdown",
   "metadata": {
    "collapsed": true
   },
   "source": [
    "## 1) Make a request from the Dark Sky API for where you were born (or lived, or want to visit!).\n",
    "\n",
    "- *Tip: The URL we used in class was for a place near San Francisco. What was the format of the endpoint that made this happen?*\n",
    "- *Tip: Save the URL as a separate variable, and be sure to not have `[` and `]` inside.*\n",
    "- *Tip: How is north vs. south and east vs. west latitude/longitude represented? Is it the normal North/South/East/West?*\n",
    "- *Tip: You know it's JSON, but Python doesn't! Make sure you aren't trying to deal with plain text.* \n",
    "- *Tip: Once you've imported the JSON into a variable, check the timezone's name to make sure it seems like it got the right part of the world!*"
   ]
  },
  {
   "cell_type": "code",
   "execution_count": 2,
   "metadata": {
    "scrolled": true
   },
   "outputs": [],
   "source": [
    "from dotenv import load_dotenv\n",
    "load_dotenv()\n",
    "\n",
    "import os\n",
    "\n",
    "DARKSKY_API_KEY = os.getenv(\"DARKSKY_API_KEY\")"
   ]
  },
  {
   "cell_type": "code",
   "execution_count": 3,
   "metadata": {
    "scrolled": false
   },
   "outputs": [],
   "source": [
    "response = requests.get(f'https://api.darksky.net/forecast/{DARKSKY_API_KEY}/45,-73')\n",
    "data = response.json()"
   ]
  },
  {
   "cell_type": "code",
   "execution_count": null,
   "metadata": {
    "scrolled": true
   },
   "outputs": [],
   "source": []
  },
  {
   "cell_type": "markdown",
   "metadata": {},
   "source": [
    "## 2) What's the current wind speed? How much warmer does it feel than it actually is?\n",
    "\n",
    "- *Tip: You can do this by browsing through the dictionaries, but it might be easier to read the documentation*\n",
    "- *Tip: For the second half: it **is** one temperature, and it **feels** a different temperature. Calculate the difference.*"
   ]
  },
  {
   "cell_type": "code",
   "execution_count": 4,
   "metadata": {
    "scrolled": true
   },
   "outputs": [
    {
     "data": {
      "text/plain": [
       "{'time': 1559923627,\n",
       " 'summary': 'Clear',\n",
       " 'icon': 'clear-day',\n",
       " 'nearestStormDistance': 410,\n",
       " 'nearestStormBearing': 224,\n",
       " 'precipIntensity': 0,\n",
       " 'precipProbability': 0,\n",
       " 'temperature': 71.61,\n",
       " 'apparentTemperature': 71.61,\n",
       " 'dewPoint': 48.94,\n",
       " 'humidity': 0.45,\n",
       " 'pressure': 1013.02,\n",
       " 'windSpeed': 3.71,\n",
       " 'windGust': 9.54,\n",
       " 'windBearing': 219,\n",
       " 'cloudCover': 0,\n",
       " 'uvIndex': 7,\n",
       " 'visibility': 8.3,\n",
       " 'ozone': 370.58}"
      ]
     },
     "execution_count": 4,
     "metadata": {},
     "output_type": "execute_result"
    }
   ],
   "source": [
    "data['currently']"
   ]
  },
  {
   "cell_type": "code",
   "execution_count": 5,
   "metadata": {
    "scrolled": true
   },
   "outputs": [],
   "source": [
    "temp_difference = data['currently']['temperature'] - data['currently']['apparentTemperature']"
   ]
  },
  {
   "cell_type": "code",
   "execution_count": 6,
   "metadata": {
    "scrolled": true
   },
   "outputs": [
    {
     "name": "stdout",
     "output_type": "stream",
     "text": [
      "The wind speed is currently 3.71 and it feels like 0.0 degrees Fahrenheit warmer than it actually is.\n"
     ]
    }
   ],
   "source": [
    "print(f\"The wind speed is currently {data['currently']['windSpeed']} and it feels like {temp_difference} degrees Fahrenheit warmer than it actually is.\")"
   ]
  },
  {
   "cell_type": "markdown",
   "metadata": {},
   "source": [
    "## 3) Today's forecast is the FIRST daily forecast. For the place you decided on above, how much of the moon is currently visible?\n",
    "\n",
    "- *Tip: This does **not** use the `currently` key.*\n",
    "- *Tip: It might be helpful to save the forecast into its own variable*"
   ]
  },
  {
   "cell_type": "code",
   "execution_count": 7,
   "metadata": {
    "scrolled": true
   },
   "outputs": [
    {
     "name": "stdout",
     "output_type": "stream",
     "text": [
      "[[{'time': 1559880000, 'summary': 'Clear throughout the day.', 'icon': 'clear-day', 'sunriseTime': 1559898446, 'sunsetTime': 1559954236, 'moonPhase': 0.15, 'precipIntensity': 0.0003, 'precipIntensityMax': 0.0017, 'precipIntensityMaxTime': 1559952000, 'precipProbability': 0.05, 'precipType': 'rain', 'temperatureHigh': 76.58, 'temperatureHighTime': 1559941200, 'temperatureLow': 43.13, 'temperatureLowTime': 1559984400, 'apparentTemperatureHigh': 76.58, 'apparentTemperatureHighTime': 1559941200, 'apparentTemperatureLow': 41.89, 'apparentTemperatureLowTime': 1559984400, 'dewPoint': 49.2, 'humidity': 0.68, 'pressure': 1013.32, 'windSpeed': 3.04, 'windGust': 22.41, 'windGustTime': 1559944800, 'windBearing': 275, 'cloudCover': 0.01, 'uvIndex': 8, 'uvIndexTime': 1559926800, 'visibility': 8.57, 'ozone': 359.46, 'temperatureMin': 43.08, 'temperatureMinTime': 1559898000, 'temperatureMax': 76.58, 'temperatureMaxTime': 1559941200, 'apparentTemperatureMin': 43.08, 'apparentTemperatureMinTime': 1559898000, 'apparentTemperatureMax': 76.58, 'apparentTemperatureMaxTime': 1559941200}, {'time': 1559966400, 'summary': 'Partly cloudy in the morning.', 'icon': 'partly-cloudy-day', 'sunriseTime': 1559984828, 'sunsetTime': 1560040676, 'moonPhase': 0.19, 'precipIntensity': 0.0001, 'precipIntensityMax': 0.0005, 'precipIntensityMaxTime': 1559995200, 'precipProbability': 0.02, 'precipType': 'rain', 'temperatureHigh': 69.77, 'temperatureHighTime': 1560024000, 'temperatureLow': 47.69, 'temperatureLowTime': 1560067200, 'apparentTemperatureHigh': 69.77, 'apparentTemperatureHighTime': 1560024000, 'apparentTemperatureLow': 45.46, 'apparentTemperatureLowTime': 1560067200, 'dewPoint': 44.47, 'humidity': 0.63, 'pressure': 1023.23, 'windSpeed': 3.37, 'windGust': 10.06, 'windGustTime': 1559970000, 'windBearing': 7, 'cloudCover': 0.13, 'uvIndex': 8, 'uvIndexTime': 1560009600, 'visibility': 10, 'ozone': 342.36, 'temperatureMin': 43.13, 'temperatureMinTime': 1559984400, 'temperatureMax': 69.77, 'temperatureMaxTime': 1560024000, 'apparentTemperatureMin': 41.89, 'apparentTemperatureMinTime': 1559984400, 'apparentTemperatureMax': 69.77, 'apparentTemperatureMaxTime': 1560024000}, {'time': 1560052800, 'summary': 'Mostly cloudy overnight.', 'icon': 'partly-cloudy-night', 'sunriseTime': 1560071212, 'sunsetTime': 1560127114, 'moonPhase': 0.23, 'precipIntensity': 0.0001, 'precipIntensityMax': 0.0002, 'precipIntensityMaxTime': 1560070800, 'precipProbability': 0.02, 'precipType': 'rain', 'temperatureHigh': 81.17, 'temperatureHighTime': 1560110400, 'temperatureLow': 57.02, 'temperatureLowTime': 1560157200, 'apparentTemperatureHigh': 81.17, 'apparentTemperatureHighTime': 1560110400, 'apparentTemperatureLow': 57.02, 'apparentTemperatureLowTime': 1560157200, 'dewPoint': 49.72, 'humidity': 0.6, 'pressure': 1024.88, 'windSpeed': 3.91, 'windGust': 9.98, 'windGustTime': 1560088800, 'windBearing': 177, 'cloudCover': 0.11, 'uvIndex': 9, 'uvIndexTime': 1560099600, 'visibility': 10, 'ozone': 332.79, 'temperatureMin': 47.69, 'temperatureMinTime': 1560067200, 'temperatureMax': 81.17, 'temperatureMaxTime': 1560110400, 'apparentTemperatureMin': 45.46, 'apparentTemperatureMinTime': 1560067200, 'apparentTemperatureMax': 81.17, 'apparentTemperatureMaxTime': 1560110400}, {'time': 1560139200, 'summary': 'Light rain overnight.', 'icon': 'rain', 'sunriseTime': 1560157598, 'sunsetTime': 1560213550, 'moonPhase': 0.27, 'precipIntensity': 0.0015, 'precipIntensityMax': 0.0123, 'precipIntensityMaxTime': 1560211200, 'precipProbability': 0.5, 'precipType': 'rain', 'temperatureHigh': 82.01, 'temperatureHighTime': 1560193200, 'temperatureLow': 61.06, 'temperatureLowTime': 1560232800, 'apparentTemperatureHigh': 82.01, 'apparentTemperatureHighTime': 1560193200, 'apparentTemperatureLow': 61.14, 'apparentTemperatureLowTime': 1560232800, 'dewPoint': 53.18, 'humidity': 0.58, 'pressure': 1018.92, 'windSpeed': 7.57, 'windGust': 29.15, 'windGustTime': 1560222000, 'windBearing': 174, 'cloudCover': 0.76, 'uvIndex': 6, 'uvIndexTime': 1560182400, 'visibility': 10, 'ozone': 325.07, 'temperatureMin': 57.02, 'temperatureMinTime': 1560157200, 'temperatureMax': 82.01, 'temperatureMaxTime': 1560193200, 'apparentTemperatureMin': 57.02, 'apparentTemperatureMinTime': 1560157200, 'apparentTemperatureMax': 82.01, 'apparentTemperatureMaxTime': 1560193200}, {'time': 1560225600, 'summary': 'Rain in the morning.', 'icon': 'rain', 'sunriseTime': 1560243987, 'sunsetTime': 1560299985, 'moonPhase': 0.3, 'precipIntensity': 0.0191, 'precipIntensityMax': 0.0555, 'precipIntensityMaxTime': 1560254400, 'precipProbability': 0.98, 'precipType': 'rain', 'temperatureHigh': 67.73, 'temperatureHighTime': 1560265200, 'temperatureLow': 48.48, 'temperatureLowTime': 1560330000, 'apparentTemperatureHigh': 68.15, 'apparentTemperatureHighTime': 1560265200, 'apparentTemperatureLow': 46.94, 'apparentTemperatureLowTime': 1560330000, 'dewPoint': 56.99, 'humidity': 0.79, 'pressure': 1012.03, 'windSpeed': 4.01, 'windGust': 39.68, 'windGustTime': 1560250800, 'windBearing': 233, 'cloudCover': 0.87, 'uvIndex': 4, 'uvIndexTime': 1560265200, 'visibility': 8.15, 'ozone': 328.64, 'temperatureMin': 55.23, 'temperatureMinTime': 1560308400, 'temperatureMax': 67.73, 'temperatureMaxTime': 1560265200, 'apparentTemperatureMin': 55.23, 'apparentTemperatureMinTime': 1560308400, 'apparentTemperatureMax': 68.15, 'apparentTemperatureMaxTime': 1560265200}, {'time': 1560312000, 'summary': 'Clear throughout the day.', 'icon': 'clear-day', 'sunriseTime': 1560330377, 'sunsetTime': 1560386417, 'moonPhase': 0.34, 'precipIntensity': 0, 'precipIntensityMax': 0.0002, 'precipIntensityMaxTime': 1560351600, 'precipProbability': 0, 'temperatureHigh': 76.35, 'temperatureHighTime': 1560369600, 'temperatureLow': 53.61, 'temperatureLowTime': 1560416400, 'apparentTemperatureHigh': 76.35, 'apparentTemperatureHighTime': 1560369600, 'apparentTemperatureLow': 53.61, 'apparentTemperatureLowTime': 1560416400, 'dewPoint': 50.77, 'humidity': 0.65, 'pressure': 1019.11, 'windSpeed': 2.85, 'windGust': 11.42, 'windGustTime': 1560340800, 'windBearing': 186, 'cloudCover': 0.02, 'uvIndex': 8, 'uvIndexTime': 1560355200, 'visibility': 10, 'ozone': 344.26, 'temperatureMin': 48.48, 'temperatureMinTime': 1560330000, 'temperatureMax': 76.35, 'temperatureMaxTime': 1560369600, 'apparentTemperatureMin': 46.94, 'apparentTemperatureMinTime': 1560330000, 'apparentTemperatureMax': 76.35, 'apparentTemperatureMaxTime': 1560369600}, {'time': 1560398400, 'summary': 'Partly cloudy until afternoon.', 'icon': 'partly-cloudy-day', 'sunriseTime': 1560416770, 'sunsetTime': 1560472848, 'moonPhase': 0.38, 'precipIntensity': 0.0019, 'precipIntensityMax': 0.0135, 'precipIntensityMaxTime': 1560438000, 'precipProbability': 0.14, 'precipType': 'rain', 'temperatureHigh': 71.9, 'temperatureHighTime': 1560452400, 'temperatureLow': 57.17, 'temperatureLowTime': 1560495600, 'apparentTemperatureHigh': 71.9, 'apparentTemperatureHighTime': 1560452400, 'apparentTemperatureLow': 57.17, 'apparentTemperatureLowTime': 1560495600, 'dewPoint': 52.37, 'humidity': 0.69, 'pressure': 1014.1, 'windSpeed': 5.8, 'windGust': 18.82, 'windGustTime': 1560470400, 'windBearing': 151, 'cloudCover': 0.16, 'uvIndex': 7, 'uvIndexTime': 1560445200, 'visibility': 10, 'ozone': 341.59, 'temperatureMin': 53.61, 'temperatureMinTime': 1560416400, 'temperatureMax': 71.9, 'temperatureMaxTime': 1560452400, 'apparentTemperatureMin': 53.61, 'apparentTemperatureMinTime': 1560416400, 'apparentTemperatureMax': 71.9, 'apparentTemperatureMaxTime': 1560452400}, {'time': 1560484800, 'summary': 'Rain in the afternoon.', 'icon': 'rain', 'sunriseTime': 1560503166, 'sunsetTime': 1560559276, 'moonPhase': 0.41, 'precipIntensity': 0.0168, 'precipIntensityMax': 0.0562, 'precipIntensityMaxTime': 1560535200, 'precipProbability': 0.97, 'precipType': 'rain', 'temperatureHigh': 70.41, 'temperatureHighTime': 1560542400, 'temperatureLow': 54.97, 'temperatureLowTime': 1560585600, 'apparentTemperatureHigh': 70.88, 'apparentTemperatureHighTime': 1560542400, 'apparentTemperatureLow': 54.97, 'apparentTemperatureLowTime': 1560585600, 'dewPoint': 58.57, 'humidity': 0.85, 'pressure': 1011.24, 'windSpeed': 3.53, 'windGust': 20.83, 'windGustTime': 1560535200, 'windBearing': 187, 'cloudCover': 0.44, 'uvIndex': 5, 'uvIndexTime': 1560528000, 'visibility': 8.89, 'ozone': 355.71, 'temperatureMin': 57.17, 'temperatureMinTime': 1560495600, 'temperatureMax': 70.41, 'temperatureMaxTime': 1560542400, 'apparentTemperatureMin': 57.17, 'apparentTemperatureMinTime': 1560495600, 'apparentTemperatureMax': 70.88, 'apparentTemperatureMaxTime': 1560542400}]]\n"
     ]
    }
   ],
   "source": [
    "weeklyForcast = [data['daily']['data']]\n",
    "print(weeklyForcast)\n",
    "\n",
    "\n"
   ]
  },
  {
   "cell_type": "code",
   "execution_count": 8,
   "metadata": {
    "scrolled": true
   },
   "outputs": [
    {
     "name": "stdout",
     "output_type": "stream",
     "text": [
      "The moon is currently visible by 0.15.\n"
     ]
    }
   ],
   "source": [
    "dayMoonPhases = []\n",
    "for days in weeklyForcast:\n",
    "    for today in days:\n",
    "       dayMoonPhases.append(today['moonPhase'])\n",
    "print(f\"The moon is currently visible by {dayMoonPhases[0]}.\")        \n",
    "        \n",
    "#     print(day)\n",
    "#     print(\"------------------------\")\n",
    "#     days_of_week.append(day)\n",
    "    \n",
    "# print(days_of_week)"
   ]
  },
  {
   "cell_type": "markdown",
   "metadata": {},
   "source": [
    "## 4) What's the difference between the high and low temperatures for today?"
   ]
  },
  {
   "cell_type": "code",
   "execution_count": 20,
   "metadata": {
    "scrolled": true
   },
   "outputs": [
    {
     "name": "stdout",
     "output_type": "stream",
     "text": [
      "The difference between the high and low temperatures for today is 33 degrees F.\n",
      "[{'time': '2019-06-07', 'summary': 'Clear throughout the day.', 'icon': 'clear-day', 'sunriseTime': 1559898446, 'sunsetTime': 1559954236, 'moonPhase': 0.15, 'precipIntensity': 0.0003, 'precipIntensityMax': 0.0017, 'precipIntensityMaxTime': 1559952000, 'precipProbability': 0.05, 'precipType': 'rain', 'temperatureHigh': 76.58, 'temperatureHighTime': 1559941200, 'temperatureLow': 43.13, 'temperatureLowTime': 1559984400, 'apparentTemperatureHigh': 76.58, 'apparentTemperatureHighTime': 1559941200, 'apparentTemperatureLow': 41.89, 'apparentTemperatureLowTime': 1559984400, 'dewPoint': 49.2, 'humidity': 0.68, 'pressure': 1013.32, 'windSpeed': 3.04, 'windGust': 22.41, 'windGustTime': 1559944800, 'windBearing': 275, 'cloudCover': 0.01, 'uvIndex': 8, 'uvIndexTime': 1559926800, 'visibility': 8.57, 'ozone': 359.46, 'temperatureMin': 43.08, 'temperatureMinTime': 1559898000, 'temperatureMax': 76.58, 'temperatureMaxTime': 1559941200, 'apparentTemperatureMin': 43.08, 'apparentTemperatureMinTime': 1559898000, 'apparentTemperatureMax': 76.58, 'apparentTemperatureMaxTime': 1559941200}, {'time': '2019-06-08', 'summary': 'Partly cloudy in the morning.', 'icon': 'partly-cloudy-day', 'sunriseTime': 1559984828, 'sunsetTime': 1560040676, 'moonPhase': 0.19, 'precipIntensity': 0.0001, 'precipIntensityMax': 0.0005, 'precipIntensityMaxTime': 1559995200, 'precipProbability': 0.02, 'precipType': 'rain', 'temperatureHigh': 69.77, 'temperatureHighTime': 1560024000, 'temperatureLow': 47.69, 'temperatureLowTime': 1560067200, 'apparentTemperatureHigh': 69.77, 'apparentTemperatureHighTime': 1560024000, 'apparentTemperatureLow': 45.46, 'apparentTemperatureLowTime': 1560067200, 'dewPoint': 44.47, 'humidity': 0.63, 'pressure': 1023.23, 'windSpeed': 3.37, 'windGust': 10.06, 'windGustTime': 1559970000, 'windBearing': 7, 'cloudCover': 0.13, 'uvIndex': 8, 'uvIndexTime': 1560009600, 'visibility': 10, 'ozone': 342.36, 'temperatureMin': 43.13, 'temperatureMinTime': 1559984400, 'temperatureMax': 69.77, 'temperatureMaxTime': 1560024000, 'apparentTemperatureMin': 41.89, 'apparentTemperatureMinTime': 1559984400, 'apparentTemperatureMax': 69.77, 'apparentTemperatureMaxTime': 1560024000}, {'time': '2019-06-09', 'summary': 'Mostly cloudy overnight.', 'icon': 'partly-cloudy-night', 'sunriseTime': 1560071212, 'sunsetTime': 1560127114, 'moonPhase': 0.23, 'precipIntensity': 0.0001, 'precipIntensityMax': 0.0002, 'precipIntensityMaxTime': 1560070800, 'precipProbability': 0.02, 'precipType': 'rain', 'temperatureHigh': 81.17, 'temperatureHighTime': 1560110400, 'temperatureLow': 57.02, 'temperatureLowTime': 1560157200, 'apparentTemperatureHigh': 81.17, 'apparentTemperatureHighTime': 1560110400, 'apparentTemperatureLow': 57.02, 'apparentTemperatureLowTime': 1560157200, 'dewPoint': 49.72, 'humidity': 0.6, 'pressure': 1024.88, 'windSpeed': 3.91, 'windGust': 9.98, 'windGustTime': 1560088800, 'windBearing': 177, 'cloudCover': 0.11, 'uvIndex': 9, 'uvIndexTime': 1560099600, 'visibility': 10, 'ozone': 332.79, 'temperatureMin': 47.69, 'temperatureMinTime': 1560067200, 'temperatureMax': 81.17, 'temperatureMaxTime': 1560110400, 'apparentTemperatureMin': 45.46, 'apparentTemperatureMinTime': 1560067200, 'apparentTemperatureMax': 81.17, 'apparentTemperatureMaxTime': 1560110400}, {'time': '2019-06-10', 'summary': 'Light rain overnight.', 'icon': 'rain', 'sunriseTime': 1560157598, 'sunsetTime': 1560213550, 'moonPhase': 0.27, 'precipIntensity': 0.0015, 'precipIntensityMax': 0.0123, 'precipIntensityMaxTime': 1560211200, 'precipProbability': 0.5, 'precipType': 'rain', 'temperatureHigh': 82.01, 'temperatureHighTime': 1560193200, 'temperatureLow': 61.06, 'temperatureLowTime': 1560232800, 'apparentTemperatureHigh': 82.01, 'apparentTemperatureHighTime': 1560193200, 'apparentTemperatureLow': 61.14, 'apparentTemperatureLowTime': 1560232800, 'dewPoint': 53.18, 'humidity': 0.58, 'pressure': 1018.92, 'windSpeed': 7.57, 'windGust': 29.15, 'windGustTime': 1560222000, 'windBearing': 174, 'cloudCover': 0.76, 'uvIndex': 6, 'uvIndexTime': 1560182400, 'visibility': 10, 'ozone': 325.07, 'temperatureMin': 57.02, 'temperatureMinTime': 1560157200, 'temperatureMax': 82.01, 'temperatureMaxTime': 1560193200, 'apparentTemperatureMin': 57.02, 'apparentTemperatureMinTime': 1560157200, 'apparentTemperatureMax': 82.01, 'apparentTemperatureMaxTime': 1560193200}, {'time': '2019-06-11', 'summary': 'Rain in the morning.', 'icon': 'rain', 'sunriseTime': 1560243987, 'sunsetTime': 1560299985, 'moonPhase': 0.3, 'precipIntensity': 0.0191, 'precipIntensityMax': 0.0555, 'precipIntensityMaxTime': 1560254400, 'precipProbability': 0.98, 'precipType': 'rain', 'temperatureHigh': 67.73, 'temperatureHighTime': 1560265200, 'temperatureLow': 48.48, 'temperatureLowTime': 1560330000, 'apparentTemperatureHigh': 68.15, 'apparentTemperatureHighTime': 1560265200, 'apparentTemperatureLow': 46.94, 'apparentTemperatureLowTime': 1560330000, 'dewPoint': 56.99, 'humidity': 0.79, 'pressure': 1012.03, 'windSpeed': 4.01, 'windGust': 39.68, 'windGustTime': 1560250800, 'windBearing': 233, 'cloudCover': 0.87, 'uvIndex': 4, 'uvIndexTime': 1560265200, 'visibility': 8.15, 'ozone': 328.64, 'temperatureMin': 55.23, 'temperatureMinTime': 1560308400, 'temperatureMax': 67.73, 'temperatureMaxTime': 1560265200, 'apparentTemperatureMin': 55.23, 'apparentTemperatureMinTime': 1560308400, 'apparentTemperatureMax': 68.15, 'apparentTemperatureMaxTime': 1560265200}, {'time': '2019-06-12', 'summary': 'Clear throughout the day.', 'icon': 'clear-day', 'sunriseTime': 1560330377, 'sunsetTime': 1560386417, 'moonPhase': 0.34, 'precipIntensity': 0, 'precipIntensityMax': 0.0002, 'precipIntensityMaxTime': 1560351600, 'precipProbability': 0, 'temperatureHigh': 76.35, 'temperatureHighTime': 1560369600, 'temperatureLow': 53.61, 'temperatureLowTime': 1560416400, 'apparentTemperatureHigh': 76.35, 'apparentTemperatureHighTime': 1560369600, 'apparentTemperatureLow': 53.61, 'apparentTemperatureLowTime': 1560416400, 'dewPoint': 50.77, 'humidity': 0.65, 'pressure': 1019.11, 'windSpeed': 2.85, 'windGust': 11.42, 'windGustTime': 1560340800, 'windBearing': 186, 'cloudCover': 0.02, 'uvIndex': 8, 'uvIndexTime': 1560355200, 'visibility': 10, 'ozone': 344.26, 'temperatureMin': 48.48, 'temperatureMinTime': 1560330000, 'temperatureMax': 76.35, 'temperatureMaxTime': 1560369600, 'apparentTemperatureMin': 46.94, 'apparentTemperatureMinTime': 1560330000, 'apparentTemperatureMax': 76.35, 'apparentTemperatureMaxTime': 1560369600}, {'time': '2019-06-13', 'summary': 'Partly cloudy until afternoon.', 'icon': 'partly-cloudy-day', 'sunriseTime': 1560416770, 'sunsetTime': 1560472848, 'moonPhase': 0.38, 'precipIntensity': 0.0019, 'precipIntensityMax': 0.0135, 'precipIntensityMaxTime': 1560438000, 'precipProbability': 0.14, 'precipType': 'rain', 'temperatureHigh': 71.9, 'temperatureHighTime': 1560452400, 'temperatureLow': 57.17, 'temperatureLowTime': 1560495600, 'apparentTemperatureHigh': 71.9, 'apparentTemperatureHighTime': 1560452400, 'apparentTemperatureLow': 57.17, 'apparentTemperatureLowTime': 1560495600, 'dewPoint': 52.37, 'humidity': 0.69, 'pressure': 1014.1, 'windSpeed': 5.8, 'windGust': 18.82, 'windGustTime': 1560470400, 'windBearing': 151, 'cloudCover': 0.16, 'uvIndex': 7, 'uvIndexTime': 1560445200, 'visibility': 10, 'ozone': 341.59, 'temperatureMin': 53.61, 'temperatureMinTime': 1560416400, 'temperatureMax': 71.9, 'temperatureMaxTime': 1560452400, 'apparentTemperatureMin': 53.61, 'apparentTemperatureMinTime': 1560416400, 'apparentTemperatureMax': 71.9, 'apparentTemperatureMaxTime': 1560452400}, {'time': '2019-06-14', 'summary': 'Rain in the afternoon.', 'icon': 'rain', 'sunriseTime': 1560503166, 'sunsetTime': 1560559276, 'moonPhase': 0.41, 'precipIntensity': 0.0168, 'precipIntensityMax': 0.0562, 'precipIntensityMaxTime': 1560535200, 'precipProbability': 0.97, 'precipType': 'rain', 'temperatureHigh': 70.41, 'temperatureHighTime': 1560542400, 'temperatureLow': 54.97, 'temperatureLowTime': 1560585600, 'apparentTemperatureHigh': 70.88, 'apparentTemperatureHighTime': 1560542400, 'apparentTemperatureLow': 54.97, 'apparentTemperatureLowTime': 1560585600, 'dewPoint': 58.57, 'humidity': 0.85, 'pressure': 1011.24, 'windSpeed': 3.53, 'windGust': 20.83, 'windGustTime': 1560535200, 'windBearing': 187, 'cloudCover': 0.44, 'uvIndex': 5, 'uvIndexTime': 1560528000, 'visibility': 8.89, 'ozone': 355.71, 'temperatureMin': 57.17, 'temperatureMinTime': 1560495600, 'temperatureMax': 70.41, 'temperatureMaxTime': 1560542400, 'apparentTemperatureMin': 57.17, 'apparentTemperatureMinTime': 1560495600, 'apparentTemperatureMax': 70.88, 'apparentTemperatureMaxTime': 1560542400}]\n"
     ]
    }
   ],
   "source": [
    "weekdays_data = []\n",
    "for week in weeklyForcast:\n",
    "    for day in week:\n",
    "        weekdays_data.append(day)\n",
    "        \n",
    "day_data = []\n",
    "for singleDay in weekdays_data:\n",
    "    day_data.append(singleDay)\n",
    "    \n",
    "today = day_data[0]\n",
    "\n",
    "temp_diff = round(today['temperatureHigh'] - today[\"temperatureLow\"])\n",
    "print(f\"The difference between the high and low temperatures for today is {temp_diff} degrees F.\")\n",
    "\n",
    "print(day_data)"
   ]
  },
  {
   "cell_type": "code",
   "execution_count": null,
   "metadata": {
    "scrolled": true
   },
   "outputs": [],
   "source": []
  },
  {
   "cell_type": "code",
   "execution_count": null,
   "metadata": {
    "scrolled": true
   },
   "outputs": [],
   "source": []
  },
  {
   "cell_type": "markdown",
   "metadata": {},
   "source": [
    "## 5) Go through the daily forecasts, printing out the next week's worth of predictions.\n",
    "\n",
    "I'd like to know the **high temperature** for each day, and whether it's **hot, warm, or cold** (based on what temperatures you think are hot, warm or cold).\n",
    "\n",
    "- *Tip: Is it returning F or C? You can change them by adding `?units=us` or `?units=si` onto the end of the URL.*\n",
    "- *Tip: You'll need to use an `if` statement to say whether it is hot, warm or cold.*"
   ]
  },
  {
   "cell_type": "code",
   "execution_count": 10,
   "metadata": {
    "scrolled": true
   },
   "outputs": [],
   "source": [
    "import datetime\n",
    "\n",
    "# timestamp = datetime.datetime.fromtimestamp(1500000000)\n",
    "# print(timestamp.strftime('%Y-%m-%d'))"
   ]
  },
  {
   "cell_type": "code",
   "execution_count": 11,
   "metadata": {
    "scrolled": true
   },
   "outputs": [
    {
     "name": "stdout",
     "output_type": "stream",
     "text": [
      "On 2019-06-07, the high temperature was 76.58 and it was hot.\n",
      "On 2019-06-08, the high temperature was 69.77 and it was warm.\n",
      "On 2019-06-09, the high temperature was 81.17 and it was hot.\n",
      "On 2019-06-10, the high temperature was 82.01 and it was hot.\n",
      "On 2019-06-11, the high temperature was 67.73 and it was warm.\n",
      "On 2019-06-12, the high temperature was 76.35 and it was hot.\n",
      "On 2019-06-13, the high temperature was 71.9 and it was hot.\n",
      "On 2019-06-14, the high temperature was 70.41 and it was hot.\n"
     ]
    }
   ],
   "source": [
    "for singleDay in day_data:\n",
    "    singleDay['time'] = datetime.datetime.fromtimestamp(int(singleDay['time'])).strftime('%Y-%m-%d')\n",
    "    if singleDay['temperatureHigh'] < 50:\n",
    "        print(f\"On {singleDay['time']}, the high temperature was {singleDay['temperatureHigh']} and it was cold.\")\n",
    "    elif singleDay['temperatureHigh'] < 70:\n",
    "        print(f\"On {singleDay['time']}, the high temperature was {singleDay['temperatureHigh']} and it was warm.\")\n",
    "    else:\n",
    "        print(f\"On {singleDay['time']}, the high temperature was {singleDay['temperatureHigh']} and it was hot.\")\n",
    "              \n",
    "    "
   ]
  },
  {
   "cell_type": "code",
   "execution_count": null,
   "metadata": {
    "scrolled": true
   },
   "outputs": [],
   "source": [
    "\n",
    "    "
   ]
  },
  {
   "cell_type": "markdown",
   "metadata": {},
   "source": [
    "# 6) What will be the hottest day in the next week? What is the high temperature on that day?\n",
    "\n",
    "It's okay if your result looks like `1453363200`. If you want to be extra-fancy, though, format it as a **real date** - the weird number is called a **UNIX timestamp**, which might help in googling.\n",
    "\n",
    "- *Tip: It's okay to skip this if it seems too difficult!*"
   ]
  },
  {
   "cell_type": "code",
   "execution_count": 12,
   "metadata": {
    "scrolled": true
   },
   "outputs": [
    {
     "name": "stdout",
     "output_type": "stream",
     "text": [
      "The hottest day next week will be 2019-06-10 at a high temperature of 82.01 degrees Fahrenheit.\n"
     ]
    }
   ],
   "source": [
    "hottest_temp = 0\n",
    "\n",
    "for singleDay in day_data:\n",
    "    if singleDay['temperatureHigh'] > hottest_temp:\n",
    "        hottest_temp = singleDay['temperatureHigh']\n",
    "        hottest_day = singleDay['time']\n",
    " \n",
    "print(f\"The hottest day next week will be {hottest_day} at a high temperature of {hottest_temp} degrees Fahrenheit.\")\n",
    "\n",
    "#         if track['popularity'] > max_popularity:\n",
    "#         print(\"This song is most popular\")\n",
    "#         max_popularity = song['popularity']\n",
    "#         most_popular_song_title = song ['name']\n",
    "#     else:\n",
    "#         print(\"This song is not most popular\")"
   ]
  },
  {
   "cell_type": "code",
   "execution_count": null,
   "metadata": {
    "scrolled": true
   },
   "outputs": [],
   "source": []
  },
  {
   "cell_type": "code",
   "execution_count": null,
   "metadata": {
    "scrolled": true
   },
   "outputs": [],
   "source": []
  },
  {
   "cell_type": "markdown",
   "metadata": {},
   "source": [
    "## 7) What's the weather looking like for the next 24+ hours in Miami, Florida?\n",
    "\n",
    "I'd like to know the temperature for every hour, and if it's going to have cloud cover of more than 50% say \"{temperature} and cloudy\" instead of just the temperature. \n",
    "\n",
    "\n",
    "- *Tip: Be sure to remember how latitude and longitude are done with positive and negative numbers*\n",
    "- *Tip: How do you represent \"50%\" for cloud cover?*"
   ]
  },
  {
   "cell_type": "code",
   "execution_count": 95,
   "metadata": {
    "scrolled": true
   },
   "outputs": [
    {
     "name": "stdout",
     "output_type": "stream",
     "text": [
      "The temperature is 0.29 degrees F on 2019-06-07 at 14:00.\n",
      "The temperature is 0.37 degrees F on 2019-06-07 at 15:00.\n",
      "The temperature is 85.47 degrees F and it is cloudy on 2019-06-07 at 16:00.\n",
      "The temperature is 85.4 degrees F and it is cloudy on 2019-06-07 at 17:00.\n",
      "The temperature is 85.29 degrees F and it is cloudy on 2019-06-07 at 18:00.\n",
      "The temperature is 84.91 degrees F and it is cloudy on 2019-06-07 at 19:00.\n",
      "The temperature is 0.39 degrees F on 2019-06-07 at 20:00.\n",
      "The temperature is 0.32 degrees F on 2019-06-07 at 21:00.\n",
      "The temperature is 0.26 degrees F on 2019-06-07 at 22:00.\n",
      "The temperature is 0.32 degrees F on 2019-06-07 at 23:00.\n",
      "The temperature is 83 degrees F and it is cloudy on 2019-06-08 at 00:00.\n",
      "The temperature is 82.78 degrees F and it is cloudy on 2019-06-08 at 01:00.\n",
      "The temperature is 82.6 degrees F and it is cloudy on 2019-06-08 at 02:00.\n",
      "The temperature is 82.54 degrees F and it is cloudy on 2019-06-08 at 03:00.\n",
      "The temperature is 82.57 degrees F and it is cloudy on 2019-06-08 at 04:00.\n",
      "The temperature is 82.75 degrees F and it is cloudy on 2019-06-08 at 05:00.\n",
      "The temperature is 83.06 degrees F and it is cloudy on 2019-06-08 at 06:00.\n",
      "The temperature is 83.59 degrees F and it is cloudy on 2019-06-08 at 07:00.\n",
      "The temperature is 84.36 degrees F and it is cloudy on 2019-06-08 at 08:00.\n",
      "The temperature is 84.94 degrees F and it is cloudy on 2019-06-08 at 09:00.\n",
      "The temperature is 0.43 degrees F on 2019-06-08 at 10:00.\n",
      "The temperature is 0.35 degrees F on 2019-06-08 at 11:00.\n",
      "The temperature is 0.36 degrees F on 2019-06-08 at 12:00.\n",
      "The temperature is 0.43 degrees F on 2019-06-08 at 13:00.\n",
      "The temperature is 0.46 degrees F on 2019-06-08 at 14:00.\n",
      "The temperature is 0.43 degrees F on 2019-06-08 at 15:00.\n",
      "The temperature is 0.37 degrees F on 2019-06-08 at 16:00.\n",
      "The temperature is 0.33 degrees F on 2019-06-08 at 17:00.\n",
      "The temperature is 0.31 degrees F on 2019-06-08 at 18:00.\n",
      "The temperature is 0.3 degrees F on 2019-06-08 at 19:00.\n",
      "The temperature is 0.34 degrees F on 2019-06-08 at 20:00.\n",
      "The temperature is 0.46 degrees F on 2019-06-08 at 21:00.\n",
      "The temperature is 83.94 degrees F and it is cloudy on 2019-06-08 at 22:00.\n",
      "The temperature is 83.62 degrees F and it is cloudy on 2019-06-08 at 23:00.\n",
      "The temperature is 83.46 degrees F and it is cloudy on 2019-06-09 at 00:00.\n",
      "The temperature is 83.3 degrees F and it is cloudy on 2019-06-09 at 01:00.\n",
      "The temperature is 83.1 degrees F and it is cloudy on 2019-06-09 at 02:00.\n",
      "The temperature is 83.08 degrees F and it is cloudy on 2019-06-09 at 03:00.\n",
      "The temperature is 0.48 degrees F on 2019-06-09 at 04:00.\n",
      "The temperature is 0.38 degrees F on 2019-06-09 at 05:00.\n",
      "The temperature is 0.33 degrees F on 2019-06-09 at 06:00.\n",
      "The temperature is 0.31 degrees F on 2019-06-09 at 07:00.\n",
      "The temperature is 0.33 degrees F on 2019-06-09 at 08:00.\n",
      "The temperature is 0.47 degrees F on 2019-06-09 at 09:00.\n",
      "The temperature is 85.04 degrees F and it is cloudy on 2019-06-09 at 10:00.\n",
      "The temperature is 85.17 degrees F and it is cloudy on 2019-06-09 at 11:00.\n",
      "The temperature is 85.37 degrees F and it is cloudy on 2019-06-09 at 12:00.\n",
      "The temperature is 85.21 degrees F and it is cloudy on 2019-06-09 at 13:00.\n",
      "The temperature is 85.23 degrees F and it is cloudy on 2019-06-09 at 14:00.\n"
     ]
    }
   ],
   "source": [
    "response = requests.get(f'https://api.darksky.net/forecast/{DARKSKY_API_KEY}/25,-80')\n",
    "Miami = response.json()\n",
    "\n",
    "for hour in Miami['hourly']['data']:\n",
    "    if hour['time'] < 1559926127:\n",
    "        pass\n",
    "    hour['time'] = datetime.datetime.fromtimestamp(int(hour['time'])).strftime('%Y-%m-%d at %H:%M')\n",
    "    if hour['cloudCover'] > 0.50:\n",
    "        print(f\"The temperature is {hour['temperature']} degrees F and it is cloudy on {hour['time']}.\")\n",
    "    else:\n",
    "        print(f\"The temperature is {hour['cloudCover']} degrees F on {hour['time']}.\")\n",
    "\n",
    "\n"
   ]
  },
  {
   "cell_type": "code",
   "execution_count": null,
   "metadata": {
    "scrolled": true
   },
   "outputs": [],
   "source": []
  },
  {
   "cell_type": "code",
   "execution_count": null,
   "metadata": {
    "scrolled": true
   },
   "outputs": [],
   "source": []
  },
  {
   "cell_type": "markdown",
   "metadata": {},
   "source": [
    "# 8) For the next 24-ish hours in Miami, what percent of the time is the temperature above 85 degrees?\n",
    "\n",
    "If they give you 48 hours instead of 24, that's okay.\n",
    "\n",
    "- *Tip: You might want to read up on [looping patterns](http://jonathansoma.com/lede/foundations-2017/classes/data%20structures/looping-patterns/)*"
   ]
  },
  {
   "cell_type": "code",
   "execution_count": 59,
   "metadata": {
    "scrolled": true
   },
   "outputs": [
    {
     "name": "stdout",
     "output_type": "stream",
     "text": [
      "For the next 48 hours in Miami, the temperature is above 85 degrees 27% of the time.\n"
     ]
    }
   ],
   "source": [
    "total_temps = []\n",
    "above_85_list = []\n",
    "for hour in Miami['hourly']['data']:\n",
    "#     hour['time'] = datetime.datetime.fromtimestamp(int(hour['time'])).strftime('%Y-%m-%d at %H:%M')\n",
    "    total_temps.append(hour['temperature'])\n",
    "    if hour['temperature'] > 85:\n",
    "        above_85_list.append(hour['temperature'])\n",
    "        \n",
    "percentage = (len(above_85_list))/(len(total_temps))*100\n",
    "\n",
    "print(f\"For the next 48 hours in Miami, the temperature is above 85 degrees {round(percentage)}% of the time.\")\n"
   ]
  },
  {
   "cell_type": "code",
   "execution_count": null,
   "metadata": {
    "scrolled": true
   },
   "outputs": [],
   "source": []
  },
  {
   "cell_type": "code",
   "execution_count": null,
   "metadata": {
    "scrolled": true
   },
   "outputs": [],
   "source": []
  },
  {
   "cell_type": "markdown",
   "metadata": {},
   "source": [
    "## 9) What was the temperature in Central Park on Christmas Day, 2012? How about 2007? 2005? How far back does the API allow you to go?\n",
    "\n",
    "- *Tip: You'll need to use UNIX time, which is the number of seconds since January 1, 1970. Google can help you convert a normal date!*\n",
    "- *Tip: You'll want to use Forecast.io's \"time machine\" API, [documentation here](https://darksky.net/dev/docs/time-machine)*"
   ]
  },
  {
   "cell_type": "code",
   "execution_count": 94,
   "metadata": {
    "scrolled": true
   },
   "outputs": [
    {
     "name": "stdout",
     "output_type": "stream",
     "text": [
      "The temperature high on Christmas Day, 2012, was 44.42 degrees F and the low was 36.3 degrees F.\n"
     ]
    }
   ],
   "source": [
    "response = requests.get(f'https://api.darksky.net/forecast/{DARKSKY_API_KEY}/40,-73,1356411600')\n",
    "Xmas = response.json()\n",
    "\n",
    "for data in Xmas['daily']['data']:\n",
    "    print(f\"The temperature high on Christmas Day, 2012, was {data['temperatureHigh']} degrees F and the low was {data['temperatureLow']} degrees F.\")"
   ]
  },
  {
   "cell_type": "code",
   "execution_count": null,
   "metadata": {
    "scrolled": true
   },
   "outputs": [],
   "source": []
  },
  {
   "cell_type": "code",
   "execution_count": null,
   "metadata": {
    "scrolled": true
   },
   "outputs": [],
   "source": []
  }
 ],
 "metadata": {
  "kernelspec": {
   "display_name": "Python 3",
   "language": "python",
   "name": "python3"
  },
  "language_info": {
   "codemirror_mode": {
    "name": "ipython",
    "version": 3
   },
   "file_extension": ".py",
   "mimetype": "text/x-python",
   "name": "python",
   "nbconvert_exporter": "python",
   "pygments_lexer": "ipython3",
   "version": "3.6.5"
  }
 },
 "nbformat": 4,
 "nbformat_minor": 1
}
