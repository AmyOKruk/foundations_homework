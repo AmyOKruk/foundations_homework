{
 "cells": [
  {
   "cell_type": "markdown",
   "metadata": {},
   "source": [
    "# SWAPI (Star Wars)\n",
    "\n",
    "Answer the following questions using the [Star Wars](https://swapi.co/). I've added three cells for each question but you're free to use more or less! Hold `Shift` and hit `Enter` to run a cell, and use the `+` on the top left to add a new cell to a notebook.\n",
    "\n",
    "If you spend some time reading the documentation your life will probably be a little bit easier!\n",
    "\n",
    "## 0) Import any libraries you might need\n",
    "\n",
    "- *Tip: We're going to be downloading things from the internet, so we probably need `requests`.*"
   ]
  },
  {
   "cell_type": "code",
   "execution_count": 1,
   "metadata": {},
   "outputs": [],
   "source": [
    "import requests"
   ]
  },
  {
   "cell_type": "code",
   "execution_count": null,
   "metadata": {},
   "outputs": [],
   "source": []
  },
  {
   "cell_type": "code",
   "execution_count": null,
   "metadata": {},
   "outputs": [],
   "source": []
  },
  {
   "cell_type": "markdown",
   "metadata": {},
   "source": [
    "## 1) Make a request to the Star Wars API\n",
    "\n",
    "I've heard there's a new Star Wars film called **Solo**, but it isn't in SWAPI!\n",
    "\n",
    "The most recent film it contains has an ID of 7. Make a request for that film and look at the data."
   ]
  },
  {
   "cell_type": "code",
   "execution_count": 2,
   "metadata": {},
   "outputs": [],
   "source": [
    "response = requests.get('http://swapi.co/api/films/7/')\n",
    "film = response.json()"
   ]
  },
  {
   "cell_type": "code",
   "execution_count": 3,
   "metadata": {},
   "outputs": [
    {
     "name": "stdout",
     "output_type": "stream",
     "text": [
      "{'title': 'The Force Awakens', 'episode_id': 7, 'opening_crawl': \"Luke Skywalker has vanished.\\r\\nIn his absence, the sinister\\r\\nFIRST ORDER has risen from\\r\\nthe ashes of the Empire\\r\\nand will not rest until\\r\\nSkywalker, the last Jedi,\\r\\nhas been destroyed.\\r\\n \\r\\nWith the support of the\\r\\nREPUBLIC, General Leia Organa\\r\\nleads a brave RESISTANCE.\\r\\nShe is desperate to find her\\r\\nbrother Luke and gain his\\r\\nhelp in restoring peace and\\r\\njustice to the galaxy.\\r\\n \\r\\nLeia has sent her most daring\\r\\npilot on a secret mission\\r\\nto Jakku, where an old ally\\r\\nhas discovered a clue to\\r\\nLuke's whereabouts....\", 'director': 'J. J. Abrams', 'producer': 'Kathleen Kennedy, J. J. Abrams, Bryan Burk', 'release_date': '2015-12-11', 'characters': ['https://swapi.co/api/people/1/', 'https://swapi.co/api/people/3/', 'https://swapi.co/api/people/5/', 'https://swapi.co/api/people/13/', 'https://swapi.co/api/people/14/', 'https://swapi.co/api/people/27/', 'https://swapi.co/api/people/84/', 'https://swapi.co/api/people/85/', 'https://swapi.co/api/people/86/', 'https://swapi.co/api/people/87/', 'https://swapi.co/api/people/88/'], 'planets': ['https://swapi.co/api/planets/61/'], 'starships': ['https://swapi.co/api/starships/77/', 'https://swapi.co/api/starships/10/'], 'vehicles': [], 'species': ['https://swapi.co/api/species/3/', 'https://swapi.co/api/species/2/', 'https://swapi.co/api/species/1/'], 'created': '2015-04-17T06:51:30.504780Z', 'edited': '2015-12-17T14:31:47.617768Z', 'url': 'https://swapi.co/api/films/7/'}\n"
     ]
    }
   ],
   "source": [
    "print(film)"
   ]
  },
  {
   "cell_type": "code",
   "execution_count": null,
   "metadata": {},
   "outputs": [],
   "source": []
  },
  {
   "cell_type": "markdown",
   "metadata": {},
   "source": [
    "## 2) What is that film's name, and when was it released?\n",
    "\n",
    "Please print **only** the title and the release date. You can guess at the keys, but I recommend checking the documentation."
   ]
  },
  {
   "cell_type": "code",
   "execution_count": 4,
   "metadata": {},
   "outputs": [
    {
     "name": "stdout",
     "output_type": "stream",
     "text": [
      "The Force Awakens 2015-12-11\n"
     ]
    }
   ],
   "source": [
    "print(film['title'], film['release_date'])"
   ]
  },
  {
   "cell_type": "code",
   "execution_count": null,
   "metadata": {},
   "outputs": [],
   "source": []
  },
  {
   "cell_type": "code",
   "execution_count": null,
   "metadata": {},
   "outputs": [],
   "source": []
  },
  {
   "cell_type": "markdown",
   "metadata": {},
   "source": [
    "## 3) But I want Han Solo! Use the API to search for people named \"Solo\"."
   ]
  },
  {
   "cell_type": "code",
   "execution_count": 5,
   "metadata": {},
   "outputs": [],
   "source": [
    "response = requests.get('https://swapi.co/api/people/?search=solo')\n",
    "solo = response.json()"
   ]
  },
  {
   "cell_type": "code",
   "execution_count": 6,
   "metadata": {},
   "outputs": [
    {
     "data": {
      "text/plain": [
       "dict_keys(['count', 'next', 'previous', 'results'])"
      ]
     },
     "execution_count": 6,
     "metadata": {},
     "output_type": "execute_result"
    }
   ],
   "source": [
    "solo.keys()"
   ]
  },
  {
   "cell_type": "code",
   "execution_count": null,
   "metadata": {},
   "outputs": [],
   "source": []
  },
  {
   "cell_type": "markdown",
   "metadata": {},
   "source": [
    "## 4) How many results did you get?\n",
    "\n",
    "Show **two different ways** of displaying this number.\n",
    "\n",
    "- *Tip: One uses the API, and one uses a Python function*"
   ]
  },
  {
   "cell_type": "code",
   "execution_count": 7,
   "metadata": {},
   "outputs": [
    {
     "data": {
      "text/plain": [
       "1"
      ]
     },
     "execution_count": 7,
     "metadata": {},
     "output_type": "execute_result"
    }
   ],
   "source": [
    "len(solo['results'])\n",
    "    "
   ]
  },
  {
   "cell_type": "code",
   "execution_count": 8,
   "metadata": {
    "scrolled": true
   },
   "outputs": [
    {
     "name": "stdout",
     "output_type": "stream",
     "text": [
      "1\n"
     ]
    }
   ],
   "source": [
    "print(solo['count'])"
   ]
  },
  {
   "cell_type": "code",
   "execution_count": 9,
   "metadata": {},
   "outputs": [
    {
     "name": "stdout",
     "output_type": "stream",
     "text": [
      "Han Solo\n"
     ]
    }
   ],
   "source": [
    "for hans in solo['results']:\n",
    "    print(hans['name'])"
   ]
  },
  {
   "cell_type": "markdown",
   "metadata": {},
   "source": [
    "## 5) Write me a sentence about Han Solo\n",
    "\n",
    "Your sentence should be say `\"____ has _____ hair, is _____cm tall and weighs ____kg.\"` - make sure you have **no spcaes** between the numbers and `cm`/`kg`."
   ]
  },
  {
   "cell_type": "code",
   "execution_count": 10,
   "metadata": {},
   "outputs": [
    {
     "name": "stdout",
     "output_type": "stream",
     "text": [
      "Han Solo has brown hair, is 180 cm tall and 80 kg.\n"
     ]
    }
   ],
   "source": [
    "print(f\"{hans['name']} has {hans['hair_color']} hair, is {hans['height']} cm tall and {hans['mass']} kg.\")"
   ]
  },
  {
   "cell_type": "code",
   "execution_count": null,
   "metadata": {},
   "outputs": [],
   "source": []
  },
  {
   "cell_type": "code",
   "execution_count": null,
   "metadata": {},
   "outputs": [],
   "source": []
  },
  {
   "cell_type": "markdown",
   "metadata": {},
   "source": [
    "## 5) Search for C-3PO"
   ]
  },
  {
   "cell_type": "code",
   "execution_count": 11,
   "metadata": {},
   "outputs": [],
   "source": [
    "response = requests.get('https://swapi.co/api/people/?search=c-3po')\n",
    "c3po = response.json()"
   ]
  },
  {
   "cell_type": "code",
   "execution_count": 12,
   "metadata": {},
   "outputs": [
    {
     "name": "stdout",
     "output_type": "stream",
     "text": [
      "{'count': 1, 'next': None, 'previous': None, 'results': [{'name': 'C-3PO', 'height': '167', 'mass': '75', 'hair_color': 'n/a', 'skin_color': 'gold', 'eye_color': 'yellow', 'birth_year': '112BBY', 'gender': 'n/a', 'homeworld': 'https://swapi.co/api/planets/1/', 'films': ['https://swapi.co/api/films/2/', 'https://swapi.co/api/films/5/', 'https://swapi.co/api/films/4/', 'https://swapi.co/api/films/6/', 'https://swapi.co/api/films/3/', 'https://swapi.co/api/films/1/'], 'species': ['https://swapi.co/api/species/2/'], 'vehicles': [], 'starships': [], 'created': '2014-12-10T15:10:51.357000Z', 'edited': '2014-12-20T21:17:50.309000Z', 'url': 'https://swapi.co/api/people/2/'}]}\n"
     ]
    }
   ],
   "source": [
    "print(c3po)"
   ]
  },
  {
   "cell_type": "code",
   "execution_count": null,
   "metadata": {},
   "outputs": [],
   "source": []
  },
  {
   "cell_type": "markdown",
   "metadata": {},
   "source": [
    "## 6) What URL can tell me more about his species? Make a request to the corrent endpoint.\n",
    "\n",
    "Spoiler: he's a **droid**. Are robots a species? I guess so, maybe."
   ]
  },
  {
   "cell_type": "code",
   "execution_count": 13,
   "metadata": {},
   "outputs": [],
   "source": [
    "response = requests.get('https://swapi.co/api/species/?search=droid')\n",
    "droids = response.json()"
   ]
  },
  {
   "cell_type": "code",
   "execution_count": 14,
   "metadata": {},
   "outputs": [
    {
     "name": "stdout",
     "output_type": "stream",
     "text": [
      "{'count': 1, 'next': None, 'previous': None, 'results': [{'name': 'Droid', 'classification': 'artificial', 'designation': 'sentient', 'average_height': 'n/a', 'skin_colors': 'n/a', 'hair_colors': 'n/a', 'eye_colors': 'n/a', 'average_lifespan': 'indefinite', 'homeworld': None, 'language': 'n/a', 'people': ['https://swapi.co/api/people/2/', 'https://swapi.co/api/people/3/', 'https://swapi.co/api/people/8/', 'https://swapi.co/api/people/23/', 'https://swapi.co/api/people/87/'], 'films': ['https://swapi.co/api/films/2/', 'https://swapi.co/api/films/7/', 'https://swapi.co/api/films/5/', 'https://swapi.co/api/films/4/', 'https://swapi.co/api/films/6/', 'https://swapi.co/api/films/3/', 'https://swapi.co/api/films/1/'], 'created': '2014-12-10T15:16:16.259000Z', 'edited': '2015-04-17T06:59:43.869528Z', 'url': 'https://swapi.co/api/species/2/'}]}\n"
     ]
    }
   ],
   "source": [
    "print(droids)"
   ]
  },
  {
   "cell_type": "code",
   "execution_count": null,
   "metadata": {},
   "outputs": [],
   "source": []
  },
  {
   "cell_type": "markdown",
   "metadata": {},
   "source": [
    "## 7) Print out the URL of every droid\n",
    "\n",
    "* *Tip: life will be easier if you don't say `for droid in...` or `for person in` because you aren't looping through droids or people. What are you looping through?*"
   ]
  },
  {
   "cell_type": "code",
   "execution_count": 15,
   "metadata": {},
   "outputs": [
    {
     "name": "stdout",
     "output_type": "stream",
     "text": [
      "['https://swapi.co/api/people/2/', 'https://swapi.co/api/people/3/', 'https://swapi.co/api/people/8/', 'https://swapi.co/api/people/23/', 'https://swapi.co/api/people/87/']\n"
     ]
    }
   ],
   "source": [
    "# print(c3po['results'])\n",
    "\n",
    "for droid in droids['results']:\n",
    "    print(droid['people'])\n"
   ]
  },
  {
   "cell_type": "code",
   "execution_count": null,
   "metadata": {},
   "outputs": [],
   "source": []
  },
  {
   "cell_type": "code",
   "execution_count": null,
   "metadata": {},
   "outputs": [],
   "source": []
  },
  {
   "cell_type": "markdown",
   "metadata": {},
   "source": [
    "## 8) Print out the name of every droid\n",
    "\n",
    "* *Tip: You should start from the last answer, but add more stuff in!*\n",
    "* *Tip: You'll need to make a request every time you're in the loop*\n",
    "* *Tip: Be careful - f you re-use the variable name `data` you'll erase your old `data` variable*"
   ]
  },
  {
   "cell_type": "code",
   "execution_count": 16,
   "metadata": {},
   "outputs": [
    {
     "ename": "KeyError",
     "evalue": "'people'",
     "output_type": "error",
     "traceback": [
      "\u001b[0;31m---------------------------------------------------------------------------\u001b[0m",
      "\u001b[0;31mKeyError\u001b[0m                                  Traceback (most recent call last)",
      "\u001b[0;32m<ipython-input-16-9d5d07845ab2>\u001b[0m in \u001b[0;36m<module>\u001b[0;34m\u001b[0m\n\u001b[1;32m      1\u001b[0m \u001b[0;32mfor\u001b[0m \u001b[0mdroid\u001b[0m \u001b[0;32min\u001b[0m \u001b[0mc3po\u001b[0m\u001b[0;34m[\u001b[0m\u001b[0;34m'results'\u001b[0m\u001b[0;34m]\u001b[0m\u001b[0;34m:\u001b[0m\u001b[0;34m\u001b[0m\u001b[0m\n\u001b[0;32m----> 2\u001b[0;31m     \u001b[0mdroid_urls\u001b[0m \u001b[0;34m=\u001b[0m \u001b[0mdroid\u001b[0m\u001b[0;34m[\u001b[0m\u001b[0;34m'people'\u001b[0m\u001b[0;34m]\u001b[0m\u001b[0;34m\u001b[0m\u001b[0m\n\u001b[0m\u001b[1;32m      3\u001b[0m \u001b[0;34m\u001b[0m\u001b[0m\n\u001b[1;32m      4\u001b[0m \u001b[0;32mfor\u001b[0m \u001b[0murl\u001b[0m \u001b[0;32min\u001b[0m \u001b[0mdroid_urls\u001b[0m\u001b[0;34m:\u001b[0m\u001b[0;34m\u001b[0m\u001b[0m\n\u001b[1;32m      5\u001b[0m     \u001b[0mresponse\u001b[0m \u001b[0;34m=\u001b[0m \u001b[0mrequests\u001b[0m\u001b[0;34m.\u001b[0m\u001b[0mget\u001b[0m\u001b[0;34m(\u001b[0m\u001b[0murl\u001b[0m\u001b[0;34m)\u001b[0m\u001b[0;34m\u001b[0m\u001b[0m\n",
      "\u001b[0;31mKeyError\u001b[0m: 'people'"
     ]
    }
   ],
   "source": [
    "for droid in c3po['results']:\n",
    "    droid_urls = droid['people'] \n",
    "    \n",
    "for url in droid_urls:    \n",
    "    response = requests.get(url) \n",
    "    droid_name = response.json()\n",
    "    print(droid_name['name'])\n",
    "    "
   ]
  },
  {
   "cell_type": "code",
   "execution_count": null,
   "metadata": {},
   "outputs": [],
   "source": []
  },
  {
   "cell_type": "code",
   "execution_count": null,
   "metadata": {},
   "outputs": [],
   "source": []
  },
  {
   "cell_type": "markdown",
   "metadata": {},
   "source": [
    "## 9) Print out more about the droid\n",
    "\n",
    "Count the number of films for each droid, printing `\"___ was in ___ films\"` for each of them\n",
    "\n",
    "* *Tip: You might want to look at a single droid result, or print the data in the for loop, so you know how to get the films. Or read the documentation!*"
   ]
  },
  {
   "cell_type": "code",
   "execution_count": null,
   "metadata": {},
   "outputs": [],
   "source": [
    "for url in droid_urls:    \n",
    "    response = requests.get(url) \n",
    "    droid_name = response.json()\n",
    "    print(f\"{droid_name['name']} was in {len(droid_name['films'])} films\")"
   ]
  },
  {
   "cell_type": "code",
   "execution_count": null,
   "metadata": {},
   "outputs": [],
   "source": []
  },
  {
   "cell_type": "code",
   "execution_count": null,
   "metadata": {},
   "outputs": [],
   "source": []
  },
  {
   "cell_type": "markdown",
   "metadata": {},
   "source": [
    "## 10) Let's be smart and cache the results *[DIFFICULT, maybe!]*\n",
    "\n",
    "So far we've been using a for loop to go through each droid. Every droid, one more request. Every time we want more data, we run the loops again. I don't want that guy to get angry that we're asking for so much data!\n",
    "\n",
    "We want to our list of **droid urls** and turn it into a **list of dictionaries about those droids**. Save it as a variable called `droids`. If you get it correct, the following code should work if you cut and paste it.\n",
    "\n",
    "```python\n",
    "for droid in droids:\n",
    "    print(droid['name'])\n",
    "```\n",
    "\n",
    "* *Tip: Use a list comprehension*\n",
    "* *Tip: So far we've done `response = requests.get..` and `response.json()` on separate lines. You'll need to combine them!*"
   ]
  },
  {
   "cell_type": "code",
   "execution_count": null,
   "metadata": {},
   "outputs": [],
   "source": [
    "droids2 = []\n",
    "\n",
    "for url in droid_urls:    \n",
    "    response = requests.get(url) \n",
    "    droids_master_list = response.json()\n",
    "    droids2.append(droids_master_list)\n",
    "#     print(droids_master_list)\n",
    "\n",
    "for droid in droids2:\n",
    "    print(droid['name'])"
   ]
  },
  {
   "cell_type": "code",
   "execution_count": null,
   "metadata": {},
   "outputs": [],
   "source": [
    "droids_new_list = [requests.get(url).json() for url in droid_urls]"
   ]
  },
  {
   "cell_type": "code",
   "execution_count": null,
   "metadata": {},
   "outputs": [],
   "source": [
    "droids_new_list"
   ]
  },
  {
   "cell_type": "markdown",
   "metadata": {},
   "source": [
    "## 11) Get a list of every single planet in the Star Wars universe\n",
    "\n",
    "* *Tip: You'll want to use the API documentation for this, I think*"
   ]
  },
  {
   "cell_type": "code",
   "execution_count": null,
   "metadata": {},
   "outputs": [],
   "source": []
  },
  {
   "cell_type": "code",
   "execution_count": null,
   "metadata": {},
   "outputs": [],
   "source": [
    "page_numbers = [1,2,3,4,5,6,7]\n",
    "planet_list = []\n",
    "\n",
    "for page_number in page_numbers:\n",
    "    response = requests.get(f'https://swapi.co/api/planets/?page={page_number}') \n",
    "    planets = response.json()\n",
    "    for planet in planets['results']:\n",
    "        planet_list.append(planet['name'])\n",
    "print(planet_list)\n"
   ]
  },
  {
   "cell_type": "code",
   "execution_count": null,
   "metadata": {},
   "outputs": [],
   "source": []
  },
  {
   "cell_type": "markdown",
   "metadata": {},
   "source": [
    "## 12) How many plants are there? Show me two different ways of displaying the answer.\n",
    "\n",
    "* *Tip: They won't match*"
   ]
  },
  {
   "cell_type": "code",
   "execution_count": null,
   "metadata": {},
   "outputs": [],
   "source": [
    "len(planet_list)"
   ]
  },
  {
   "cell_type": "code",
   "execution_count": null,
   "metadata": {},
   "outputs": [],
   "source": [
    "planets['count']\n"
   ]
  },
  {
   "cell_type": "code",
   "execution_count": null,
   "metadata": {},
   "outputs": [],
   "source": []
  },
  {
   "cell_type": "markdown",
   "metadata": {},
   "source": [
    "# These questions are all list comprehension questions, if you'd like\n",
    "\n",
    "## 13) Get the population of each of the planets\n",
    "\n",
    "* *Tip: Only use the 10 results for now*\n",
    "    response = requests.get(f'https://swapi.co/api/planets/?page={page_number}') \n",
    "    planets = response.json()* *Tip: Use a list comprehension*"
   ]
  },
  {
   "cell_type": "code",
   "execution_count": 20,
   "metadata": {},
   "outputs": [],
   "source": [
    "response = requests.get(f'https://swapi.co/api/planets/?page={page_number}') \n",
    "planets = response.json()\n",
    "\n",
    "planets_pop = [requests.get('http://swapi.co/api/planets').json() for planet in planets['results']]"
   ]
  },
  {
   "cell_type": "code",
   "execution_count": 18,
   "metadata": {},
   "outputs": [
    {
     "name": "stdout",
     "output_type": "stream",
     "text": [
      "10\n"
     ]
    }
   ],
   "source": [
    "print(len(planets_pop))"
   ]
  },
  {
   "cell_type": "code",
   "execution_count": 21,
   "metadata": {},
   "outputs": [
    {
     "name": "stdout",
     "output_type": "stream",
     "text": [
      "2000000000\n",
      "1000\n",
      "unknown\n",
      "unknown\n",
      "6000000\n",
      "30000000\n",
      "4500000000\n",
      "1000000000000\n",
      "1000000000\n",
      "100000000000\n"
     ]
    }
   ],
   "source": [
    "for planet in planets['results']:\n",
    "    print(planet['population'])"
   ]
  },
  {
   "cell_type": "code",
   "execution_count": 22,
   "metadata": {},
   "outputs": [
    {
     "name": "stdout",
     "output_type": "stream",
     "text": [
      "['2000000000', '1000', 'unknown', 'unknown', '6000000', '30000000', '4500000000', '1000000000000', '1000000000', '100000000000']\n"
     ]
    }
   ],
   "source": [
    "planets_list = [planet['population'] for planet in planets['results']]\n",
    "print(planets_list)"
   ]
  },
  {
   "cell_type": "markdown",
   "metadata": {},
   "source": [
    "# 14) Get the population of each of the planets, EXCEPT the ones that have a population of `'unknown'`\n",
    "\n",
    "* *Tip: Use a list comprehension with a filter (that's the `..if..` part at the end)*"
   ]
  },
  {
   "cell_type": "code",
   "execution_count": 23,
   "metadata": {},
   "outputs": [
    {
     "name": "stdout",
     "output_type": "stream",
     "text": [
      "['2000000000', '1000', '6000000', '30000000', '4500000000', '1000000000000', '1000000000', '100000000000']\n"
     ]
    }
   ],
   "source": [
    "planets_list2 = [planet['population'] for planet in planets['results'] if planet['population'] != 'unknown']\n",
    "print(planets_list2)"
   ]
  },
  {
   "cell_type": "code",
   "execution_count": null,
   "metadata": {},
   "outputs": [],
   "source": []
  },
  {
   "cell_type": "code",
   "execution_count": null,
   "metadata": {},
   "outputs": [],
   "source": []
  },
  {
   "cell_type": "markdown",
   "metadata": {},
   "source": [
    "## 14) Add up the populations\n",
    "\n",
    "* *Tip: They're strings right now, so it isn't going to work unless you change something about them*"
   ]
  },
  {
   "cell_type": "code",
   "execution_count": 24,
   "metadata": {},
   "outputs": [
    {
     "name": "stdout",
     "output_type": "stream",
     "text": [
      "1107536001000\n"
     ]
    }
   ],
   "source": [
    "planets_list3 = [int(planet['population']) for planet in planets['results'] if planet['population'] != 'unknown']\n",
    "total_pop = sum(planets_list3)\n",
    "print(total_pop)"
   ]
  },
  {
   "cell_type": "code",
   "execution_count": null,
   "metadata": {},
   "outputs": [],
   "source": []
  },
  {
   "cell_type": "code",
   "execution_count": null,
   "metadata": {},
   "outputs": [],
   "source": []
  },
  {
   "cell_type": "markdown",
   "metadata": {},
   "source": [
    "## 15) Print what percentage of the total population each planet has\n",
    "\n",
    "I would like the sentences to be `\"The planet ____ has a population of _____, which is ___% of the total population\"`. If we don't know the planet's population, say `\"We don't know the population of _____\"`.\n",
    "\n",
    "* *Tip: This finally uses a for loop, but also the result of the last question*"
   ]
  },
  {
   "cell_type": "code",
   "execution_count": null,
   "metadata": {},
   "outputs": [],
   "source": [
    "planets_list3 = [int(planet['population']) for planet in planets['results'] if planet['population'] != 'unknown']"
   ]
  },
  {
   "cell_type": "code",
   "execution_count": null,
   "metadata": {},
   "outputs": [],
   "source": [
    "for planet in planets['results']:\n",
    "    if planet['population'] != \"unknown\":\n",
    "        percent = int(planet['population'])/total_pop*100\n",
    "        print(f\"The planet {planet['name']} has a population of {planet['population']}, which is {percent}% of the total population\")\n",
    "                                                                        \n",
    "                                                                        \n",
    "                                                                        \n",
    "                                                                        \n",
    "                                                                        "
   ]
  },
  {
   "cell_type": "code",
   "execution_count": null,
   "metadata": {},
   "outputs": [],
   "source": []
  }
 ],
 "metadata": {
  "kernelspec": {
   "display_name": "Python 3",
   "language": "python",
   "name": "python3"
  },
  "language_info": {
   "codemirror_mode": {
    "name": "ipython",
    "version": 3
   },
   "file_extension": ".py",
   "mimetype": "text/x-python",
   "name": "python",
   "nbconvert_exporter": "python",
   "pygments_lexer": "ipython3",
   "version": "3.6.5"
  }
 },
 "nbformat": 4,
 "nbformat_minor": 2
}
